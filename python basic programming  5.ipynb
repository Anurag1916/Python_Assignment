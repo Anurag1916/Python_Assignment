{
 "cells": [
  {
   "cell_type": "code",
   "execution_count": null,
   "id": "40bc2035",
   "metadata": {},
   "outputs": [],
   "source": [
    "\n",
    "\n",
    "3. Write a Python Program to Convert Decimal to Binary, Octal and Hexadecimal?\n",
    "4. Write a Python Program To Find ASCII value of a character?\n",
    "5. Write a Python Program to Make a Simple Calculator with 4 basic mathematical operations?"
   ]
  },
  {
   "cell_type": "markdown",
   "id": "8ead41e9",
   "metadata": {},
   "source": [
    "1. Write a Python Program to Find LCM?"
   ]
  },
  {
   "cell_type": "code",
   "execution_count": 2,
   "id": "6c3adf58",
   "metadata": {},
   "outputs": [
    {
     "ename": "SyntaxError",
     "evalue": "invalid syntax (<ipython-input-2-96da66b812d5>, line 3)",
     "output_type": "error",
     "traceback": [
      "\u001b[1;36m  File \u001b[1;32m\"<ipython-input-2-96da66b812d5>\"\u001b[1;36m, line \u001b[1;32m3\u001b[0m\n\u001b[1;33m    print(num1%(for i in range(num1+1)))\u001b[0m\n\u001b[1;37m                ^\u001b[0m\n\u001b[1;31mSyntaxError\u001b[0m\u001b[1;31m:\u001b[0m invalid syntax\n"
     ]
    }
   ],
   "source": []
  },
  {
   "cell_type": "code",
   "execution_count": 7,
   "id": "c0af568f",
   "metadata": {},
   "outputs": [
    {
     "name": "stdout",
     "output_type": "stream",
     "text": [
      "5\n",
      "25\n",
      "25\n"
     ]
    }
   ],
   "source": [
    "num1 = int(input())\n",
    "num2 = int(input())\n",
    "if(num1 > num2 ):   # Use If condition to find the greatest number among these two.\n",
    "    max= num1\n",
    "else:\n",
    "    max= num2\n",
    "while(True):\n",
    "    if(max % num1 == 0 and max % num2 == 0):   \n",
    "        print(max)\n",
    "        break;\n",
    "    max= max+ 1"
   ]
  },
  {
   "cell_type": "code",
   "execution_count": 8,
   "id": "c5f4a98f",
   "metadata": {},
   "outputs": [
    {
     "name": "stdout",
     "output_type": "stream",
     "text": [
      "enter first number : 4\n",
      "enter second number : 5\n",
      "lcm of 4 and 5 is 20\n"
     ]
    }
   ],
   "source": [
    "num1=int(input('enter first number : '))\n",
    "num2=int(input('enter second number : '))\n",
    "if num1>num2:\n",
    "    max=num1\n",
    "else:\n",
    "    max=num2\n",
    "\n",
    "while True:\n",
    "    \n",
    "    if (max%num1==0 and max%num2==0):\n",
    "        print(f'lcm of {num1} and {num2} is {max}')\n",
    "        break\n",
    "    else:\n",
    "        max+=1"
   ]
  },
  {
   "cell_type": "markdown",
   "id": "c9b421a9",
   "metadata": {},
   "source": [
    "2. Write a Python Program to Find HCF?"
   ]
  },
  {
   "cell_type": "code",
   "execution_count": 19,
   "id": "970bdfce",
   "metadata": {},
   "outputs": [
    {
     "name": "stdout",
     "output_type": "stream",
     "text": [
      "enter first number : 3\n",
      "enter second number : 6\n",
      "hcf of x and y is 3\n"
     ]
    }
   ],
   "source": [
    "x=int(input('enter first number : '))\n",
    "y=int(input('enter second number : '))\n",
    "\n",
    "if x<y:\n",
    "    smaller=x\n",
    "else:\n",
    "    smaller=y\n",
    "for i in range(1,smaller+1):\n",
    "    if (x%i==0 and y%i==0):\n",
    "        hcf=i\n",
    "    \n",
    "print(f'hcf of x and y is {hcf}')  \n",
    "    \n",
    "        "
   ]
  },
  {
   "cell_type": "code",
   "execution_count": 18,
   "id": "db2ca4f0",
   "metadata": {},
   "outputs": [
    {
     "name": "stdout",
     "output_type": "stream",
     "text": [
      "Enter first number: 6\n",
      "Enter second number: 9\n",
      "The H.C.F. of 6 and 9 is 3\n"
     ]
    }
   ],
   "source": []
  },
  {
   "cell_type": "code",
   "execution_count": null,
   "id": "2bd49401",
   "metadata": {},
   "outputs": [],
   "source": []
  }
 ],
 "metadata": {
  "kernelspec": {
   "display_name": "Python 3",
   "language": "python",
   "name": "python3"
  },
  "language_info": {
   "codemirror_mode": {
    "name": "ipython",
    "version": 3
   },
   "file_extension": ".py",
   "mimetype": "text/x-python",
   "name": "python",
   "nbconvert_exporter": "python",
   "pygments_lexer": "ipython3",
   "version": "3.8.8"
  }
 },
 "nbformat": 4,
 "nbformat_minor": 5
}
