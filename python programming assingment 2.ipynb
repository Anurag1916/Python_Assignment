{
 "cells": [
  {
   "cell_type": "code",
   "execution_count": 1,
   "id": "36985ae2",
   "metadata": {},
   "outputs": [
    {
     "name": "stdout",
     "output_type": "stream",
     "text": [
      "Object `Fahrenheit` not found.\n",
      "Object `calendar` not found.\n"
     ]
    }
   ],
   "source": [
    "\n",
    "2. Write a Python program to convert Celsius to Fahrenheit?\n",
    "3. Write a Python program to display calendar?\n",
    "\n"
   ]
  },
  {
   "cell_type": "code",
   "execution_count": null,
   "id": "03af3e1c",
   "metadata": {},
   "outputs": [],
   "source": []
  },
  {
   "cell_type": "markdown",
   "id": "82b56602",
   "metadata": {},
   "source": [
    "1. Write a Python program to convert kilometers to miles?"
   ]
  },
  {
   "cell_type": "code",
   "execution_count": 2,
   "id": "eae7584a",
   "metadata": {},
   "outputs": [
    {
     "name": "stdout",
     "output_type": "stream",
     "text": [
      "2.48\n"
     ]
    }
   ],
   "source": [
    "# 1 kilometer = 0.62 mile\n",
    "\n",
    "def convert_km_to_mile(a):\n",
    "    return a*0.62\n",
    "print(convert_km_to_mile(4))"
   ]
  },
  {
   "cell_type": "markdown",
   "id": "7c536aaa",
   "metadata": {},
   "source": [
    "2. Write a Python program to convert Celsius to Fahrenheit?"
   ]
  },
  {
   "cell_type": "code",
   "execution_count": 3,
   "id": "52475a7d",
   "metadata": {},
   "outputs": [
    {
     "name": "stdout",
     "output_type": "stream",
     "text": [
      "320\n"
     ]
    }
   ],
   "source": [
    "def celcius_to_Fahrenheit(a):\n",
    "    return a*32\n",
    "print(celcius_to_Fahrenheit(10))"
   ]
  },
  {
   "cell_type": "markdown",
   "id": "ac8c515b",
   "metadata": {},
   "source": [
    "3. Write a Python program to display calendar?"
   ]
  },
  {
   "cell_type": "code",
   "execution_count": 4,
   "id": "ab8d0031",
   "metadata": {},
   "outputs": [
    {
     "name": "stdout",
     "output_type": "stream",
     "text": [
      "     June 2021\n",
      "Mo Tu We Th Fr Sa Su\n",
      "    1  2  3  4  5  6\n",
      " 7  8  9 10 11 12 13\n",
      "14 15 16 17 18 19 20\n",
      "21 22 23 24 25 26 27\n",
      "28 29 30\n",
      "\n"
     ]
    }
   ],
   "source": [
    "\n",
    "import calendar\n",
    "\n",
    "year = 2021\n",
    "month = 6   \n",
    "\n",
    "\n",
    "print(calendar.month(year, month))\n",
    "\n"
   ]
  },
  {
   "cell_type": "markdown",
   "id": "0c761117",
   "metadata": {},
   "source": [
    "4. Write a Python program to solve quadratic equation?"
   ]
  },
  {
   "cell_type": "code",
   "execution_count": 21,
   "id": "b4142260",
   "metadata": {},
   "outputs": [
    {
     "name": "stdout",
     "output_type": "stream",
     "text": [
      "(-0.3333333333333333+0j)\n",
      "(-0.5+0j)\n"
     ]
    }
   ],
   "source": [
    "import cmath  #import complex math\n",
    "\n",
    "# 6*(x**2)+5*x+c   #equation\n",
    "\n",
    "a = 6\n",
    "b = 5\n",
    "c = 1\n",
    "\n",
    "# a,b,c are real number and a,b,c != 0\n",
    "\n",
    "d = (b**2) - (4*a*c)\n",
    "\n",
    "# sol=-(b+-(b**2-4*a*c)**0.5)/2*a\n",
    "\n",
    "sol1 = (-b+cmath.sqrt(d))/(2*a)\n",
    "sol2 = (-b-cmath.sqrt(d))/(2*a)\n",
    "\n",
    "\n",
    "\n",
    "print(sol1)\n",
    "print(sol2)\n",
    "\n",
    "\n",
    "    "
   ]
  },
  {
   "cell_type": "markdown",
   "id": "3e6a8490",
   "metadata": {},
   "source": [
    "5. Write a Python program to swap two variables without temp variable?"
   ]
  },
  {
   "cell_type": "code",
   "execution_count": null,
   "id": "d2d73e41",
   "metadata": {},
   "outputs": [],
   "source": [
    "a = 2\n",
    "b = 3\n",
    "\n",
    "print(f'original value of a and b i s {a} and {b} ')\n",
    "\n",
    "a, b = b, a\n",
    "\n",
    " \n",
    "print(f'after swapping  value of a and b is {a} and {b} ')\n"
   ]
  },
  {
   "cell_type": "code",
   "execution_count": null,
   "id": "4d99c648",
   "metadata": {},
   "outputs": [],
   "source": [
    "# Solve the quadratic equation ax**2 + bx + c = 0\n",
    "\n",
    "# import complex math module\n",
    "import cmath\n",
    "\n",
    "a = 1\n",
    "b = 5\n",
    "c = 6\n",
    "\n",
    "# calculate the discriminant\n",
    "d = (b**2) - (4*a*c)\n",
    "\n",
    "# find two solutions\n",
    "sol1 = (-b-cmath.sqrt(d))/(2*a)\n",
    "sol2 = (-b+cmath.sqrt(d))/(2*a)\n",
    "\n",
    "print('The solution are {0} and {1}'.format(sol1,sol2))"
   ]
  }
 ],
 "metadata": {
  "kernelspec": {
   "display_name": "Python 3",
   "language": "python",
   "name": "python3"
  },
  "language_info": {
   "codemirror_mode": {
    "name": "ipython",
    "version": 3
   },
   "file_extension": ".py",
   "mimetype": "text/x-python",
   "name": "python",
   "nbconvert_exporter": "python",
   "pygments_lexer": "ipython3",
   "version": "3.8.8"
  }
 },
 "nbformat": 4,
 "nbformat_minor": 5
}
